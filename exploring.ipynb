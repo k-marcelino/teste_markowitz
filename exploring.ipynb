{
 "cells": [
  {
   "cell_type": "code",
   "execution_count": 32,
   "metadata": {},
   "outputs": [],
   "source": [
    "import pandas as pd\n",
    "import numpy as np\n",
    "import matplotlib.pyplot as plt\n",
    "import pandas_datareader.data as web\n",
    "import yfinance as yf\n",
    "import plotly.graph_objects as go\n",
    "from ipywidgets import interact, interactive, fixed, interact_manual\n",
    "\n",
    "yf.pdr_override()"
   ]
  },
  {
   "cell_type": "code",
   "execution_count": 15,
   "metadata": {},
   "outputs": [
    {
     "name": "stdout",
     "output_type": "stream",
     "text": [
      "[*********************100%***********************]  1 of 1 completed\n"
     ]
    },
    {
     "data": {
      "text/html": [
       "<div>\n",
       "<style scoped>\n",
       "    .dataframe tbody tr th:only-of-type {\n",
       "        vertical-align: middle;\n",
       "    }\n",
       "\n",
       "    .dataframe tbody tr th {\n",
       "        vertical-align: top;\n",
       "    }\n",
       "\n",
       "    .dataframe thead th {\n",
       "        text-align: right;\n",
       "    }\n",
       "</style>\n",
       "<table border=\"1\" class=\"dataframe\">\n",
       "  <thead>\n",
       "    <tr style=\"text-align: right;\">\n",
       "      <th></th>\n",
       "      <th>Open</th>\n",
       "      <th>High</th>\n",
       "      <th>Low</th>\n",
       "      <th>Close</th>\n",
       "      <th>Adj Close</th>\n",
       "      <th>Volume</th>\n",
       "    </tr>\n",
       "    <tr>\n",
       "      <th>Date</th>\n",
       "      <th></th>\n",
       "      <th></th>\n",
       "      <th></th>\n",
       "      <th></th>\n",
       "      <th></th>\n",
       "      <th></th>\n",
       "    </tr>\n",
       "  </thead>\n",
       "  <tbody>\n",
       "    <tr>\n",
       "      <th>1993-04-27</th>\n",
       "      <td>24.799999</td>\n",
       "      <td>25.400000</td>\n",
       "      <td>24.500000</td>\n",
       "      <td>24.500000</td>\n",
       "      <td>24.500000</td>\n",
       "      <td>0</td>\n",
       "    </tr>\n",
       "    <tr>\n",
       "      <th>1993-04-28</th>\n",
       "      <td>24.500000</td>\n",
       "      <td>24.600000</td>\n",
       "      <td>23.700001</td>\n",
       "      <td>24.299999</td>\n",
       "      <td>24.299999</td>\n",
       "      <td>0</td>\n",
       "    </tr>\n",
       "    <tr>\n",
       "      <th>1993-04-29</th>\n",
       "      <td>24.299999</td>\n",
       "      <td>24.799999</td>\n",
       "      <td>23.700001</td>\n",
       "      <td>23.700001</td>\n",
       "      <td>23.700001</td>\n",
       "      <td>0</td>\n",
       "    </tr>\n",
       "    <tr>\n",
       "      <th>1993-04-30</th>\n",
       "      <td>23.700001</td>\n",
       "      <td>24.200001</td>\n",
       "      <td>23.700001</td>\n",
       "      <td>24.100000</td>\n",
       "      <td>24.100000</td>\n",
       "      <td>0</td>\n",
       "    </tr>\n",
       "    <tr>\n",
       "      <th>1993-05-03</th>\n",
       "      <td>24.100000</td>\n",
       "      <td>24.400000</td>\n",
       "      <td>23.799999</td>\n",
       "      <td>24.100000</td>\n",
       "      <td>24.100000</td>\n",
       "      <td>0</td>\n",
       "    </tr>\n",
       "    <tr>\n",
       "      <th>...</th>\n",
       "      <td>...</td>\n",
       "      <td>...</td>\n",
       "      <td>...</td>\n",
       "      <td>...</td>\n",
       "      <td>...</td>\n",
       "      <td>...</td>\n",
       "    </tr>\n",
       "    <tr>\n",
       "      <th>2022-08-29</th>\n",
       "      <td>112296.000000</td>\n",
       "      <td>113222.000000</td>\n",
       "      <td>111689.000000</td>\n",
       "      <td>112323.000000</td>\n",
       "      <td>112323.000000</td>\n",
       "      <td>9795800</td>\n",
       "    </tr>\n",
       "    <tr>\n",
       "      <th>2022-08-30</th>\n",
       "      <td>112323.000000</td>\n",
       "      <td>112869.000000</td>\n",
       "      <td>110103.000000</td>\n",
       "      <td>110431.000000</td>\n",
       "      <td>110431.000000</td>\n",
       "      <td>11937900</td>\n",
       "    </tr>\n",
       "    <tr>\n",
       "      <th>2022-08-31</th>\n",
       "      <td>110431.000000</td>\n",
       "      <td>111364.000000</td>\n",
       "      <td>109523.000000</td>\n",
       "      <td>109523.000000</td>\n",
       "      <td>109523.000000</td>\n",
       "      <td>14791100</td>\n",
       "    </tr>\n",
       "    <tr>\n",
       "      <th>2022-09-01</th>\n",
       "      <td>109524.000000</td>\n",
       "      <td>110405.000000</td>\n",
       "      <td>108217.000000</td>\n",
       "      <td>110405.000000</td>\n",
       "      <td>110405.000000</td>\n",
       "      <td>14478000</td>\n",
       "    </tr>\n",
       "    <tr>\n",
       "      <th>2022-09-02</th>\n",
       "      <td>110409.000000</td>\n",
       "      <td>112264.000000</td>\n",
       "      <td>110409.000000</td>\n",
       "      <td>110864.000000</td>\n",
       "      <td>110864.000000</td>\n",
       "      <td>0</td>\n",
       "    </tr>\n",
       "  </tbody>\n",
       "</table>\n",
       "<p>7265 rows × 6 columns</p>\n",
       "</div>"
      ],
      "text/plain": [
       "                     Open           High            Low          Close  \\\n",
       "Date                                                                     \n",
       "1993-04-27      24.799999      25.400000      24.500000      24.500000   \n",
       "1993-04-28      24.500000      24.600000      23.700001      24.299999   \n",
       "1993-04-29      24.299999      24.799999      23.700001      23.700001   \n",
       "1993-04-30      23.700001      24.200001      23.700001      24.100000   \n",
       "1993-05-03      24.100000      24.400000      23.799999      24.100000   \n",
       "...                   ...            ...            ...            ...   \n",
       "2022-08-29  112296.000000  113222.000000  111689.000000  112323.000000   \n",
       "2022-08-30  112323.000000  112869.000000  110103.000000  110431.000000   \n",
       "2022-08-31  110431.000000  111364.000000  109523.000000  109523.000000   \n",
       "2022-09-01  109524.000000  110405.000000  108217.000000  110405.000000   \n",
       "2022-09-02  110409.000000  112264.000000  110409.000000  110864.000000   \n",
       "\n",
       "                Adj Close    Volume  \n",
       "Date                                 \n",
       "1993-04-27      24.500000         0  \n",
       "1993-04-28      24.299999         0  \n",
       "1993-04-29      23.700001         0  \n",
       "1993-04-30      24.100000         0  \n",
       "1993-05-03      24.100000         0  \n",
       "...                   ...       ...  \n",
       "2022-08-29  112323.000000   9795800  \n",
       "2022-08-30  110431.000000  11937900  \n",
       "2022-08-31  109523.000000  14791100  \n",
       "2022-09-01  110405.000000  14478000  \n",
       "2022-09-02  110864.000000         0  \n",
       "\n",
       "[7265 rows x 6 columns]"
      ]
     },
     "execution_count": 15,
     "metadata": {},
     "output_type": "execute_result"
    }
   ],
   "source": [
    "ibov = web.get_data_yahoo('^BVSP')\n",
    "ibov"
   ]
  },
  {
   "cell_type": "code",
   "execution_count": 9,
   "metadata": {},
   "outputs": [
    {
     "data": {
      "text/html": [
       "<div>\n",
       "<style scoped>\n",
       "    .dataframe tbody tr th:only-of-type {\n",
       "        vertical-align: middle;\n",
       "    }\n",
       "\n",
       "    .dataframe tbody tr th {\n",
       "        vertical-align: top;\n",
       "    }\n",
       "\n",
       "    .dataframe thead th {\n",
       "        text-align: right;\n",
       "    }\n",
       "</style>\n",
       "<table border=\"1\" class=\"dataframe\">\n",
       "  <thead>\n",
       "    <tr style=\"text-align: right;\">\n",
       "      <th></th>\n",
       "      <th>Open</th>\n",
       "      <th>High</th>\n",
       "      <th>Low</th>\n",
       "      <th>Close</th>\n",
       "      <th>Adj Close</th>\n",
       "      <th>Volume</th>\n",
       "    </tr>\n",
       "    <tr>\n",
       "      <th>Date</th>\n",
       "      <th></th>\n",
       "      <th></th>\n",
       "      <th></th>\n",
       "      <th></th>\n",
       "      <th></th>\n",
       "      <th></th>\n",
       "    </tr>\n",
       "  </thead>\n",
       "  <tbody>\n",
       "    <tr>\n",
       "      <th>2022-08-29</th>\n",
       "      <td>112296.0</td>\n",
       "      <td>113222.0</td>\n",
       "      <td>111689.0</td>\n",
       "      <td>112323.0</td>\n",
       "      <td>112323.0</td>\n",
       "      <td>9795800</td>\n",
       "    </tr>\n",
       "    <tr>\n",
       "      <th>2022-08-30</th>\n",
       "      <td>112323.0</td>\n",
       "      <td>112869.0</td>\n",
       "      <td>110103.0</td>\n",
       "      <td>110431.0</td>\n",
       "      <td>110431.0</td>\n",
       "      <td>11937900</td>\n",
       "    </tr>\n",
       "    <tr>\n",
       "      <th>2022-08-31</th>\n",
       "      <td>110431.0</td>\n",
       "      <td>111364.0</td>\n",
       "      <td>109523.0</td>\n",
       "      <td>109523.0</td>\n",
       "      <td>109523.0</td>\n",
       "      <td>14791100</td>\n",
       "    </tr>\n",
       "    <tr>\n",
       "      <th>2022-09-01</th>\n",
       "      <td>109524.0</td>\n",
       "      <td>110405.0</td>\n",
       "      <td>108217.0</td>\n",
       "      <td>110405.0</td>\n",
       "      <td>110405.0</td>\n",
       "      <td>14478000</td>\n",
       "    </tr>\n",
       "    <tr>\n",
       "      <th>2022-09-02</th>\n",
       "      <td>110409.0</td>\n",
       "      <td>112264.0</td>\n",
       "      <td>110409.0</td>\n",
       "      <td>110864.0</td>\n",
       "      <td>110864.0</td>\n",
       "      <td>0</td>\n",
       "    </tr>\n",
       "  </tbody>\n",
       "</table>\n",
       "</div>"
      ],
      "text/plain": [
       "                Open      High       Low     Close  Adj Close    Volume\n",
       "Date                                                                   \n",
       "2022-08-29  112296.0  113222.0  111689.0  112323.0   112323.0   9795800\n",
       "2022-08-30  112323.0  112869.0  110103.0  110431.0   110431.0  11937900\n",
       "2022-08-31  110431.0  111364.0  109523.0  109523.0   109523.0  14791100\n",
       "2022-09-01  109524.0  110405.0  108217.0  110405.0   110405.0  14478000\n",
       "2022-09-02  110409.0  112264.0  110409.0  110864.0   110864.0         0"
      ]
     },
     "execution_count": 9,
     "metadata": {},
     "output_type": "execute_result"
    }
   ],
   "source": [
    "ibov.tail()"
   ]
  },
  {
   "cell_type": "code",
   "execution_count": 10,
   "metadata": {},
   "outputs": [
    {
     "data": {
      "text/plain": [
       "<AxesSubplot:xlabel='Date'>"
      ]
     },
     "execution_count": 10,
     "metadata": {},
     "output_type": "execute_result"
    },
    {
     "data": {
      "image/png": "[encoded data removed]",
      "text/plain": [
       "<Figure size 1584x576 with 1 Axes>"
      ]
     },
     "metadata": {
      "needs_background": "light"
     },
     "output_type": "display_data"
    }
   ],
   "source": [
    "ibov['Adj Close'].plot(figsize=(22,8))"
   ]
  },
  {
   "cell_type": "markdown",
   "metadata": {},
   "source": [
    "## Fronteira Eficiente na Prática com Python | Otimização de Carteira | Markowitz\n",
    "\n",
    "https://www.youtube.com/watch?v=ykHxllpCcQw"
   ]
  },
  {
   "cell_type": "code",
   "execution_count": 33,
   "metadata": {},
   "outputs": [],
   "source": [
    "tickers = ['MGLU3.SA', 'VALE3.SA']\n",
    "periodo = '1y' # 1d, 5d, 1mo, 3mo, 6mo, 1y, 2y, 5y, 10y, ytd, max\n",
    "\n"
   ]
  },
  {
   "cell_type": "code",
   "execution_count": 34,
   "metadata": {},
   "outputs": [],
   "source": [
    "def fix_col_names(df):\n",
    "    return ['IBOV' if col == '^BVSP' else col.rstrip('SA') for col in df.columns]"
   ]
  },
  {
   "cell_type": "code",
   "execution_count": 35,
   "metadata": {},
   "outputs": [
    {
     "name": "stdout",
     "output_type": "stream",
     "text": [
      "[*********************100%***********************]  2 of 2 completed\n"
     ]
    }
   ],
   "source": [
    "prices = yf.download(tickers, period=periodo, rounding=True)['Adj Close']\n",
    "prices.columns = fix_col_names(prices)\n",
    "prices.dropna(inplace=True)\n",
    "retorno = prices.pct_change().dropna()\n",
    "ativos = retorno.columns.to_list()\n"
   ]
  },
  {
   "cell_type": "code",
   "execution_count": 36,
   "metadata": {},
   "outputs": [
    {
     "data": {
      "text/plain": [
       "<bound method NDFrame.tail of             MGLU3.  VALE3.\n",
       "Date                      \n",
       "2021-09-02   18.01   81.73\n",
       "2021-09-03   18.90   81.78\n",
       "2021-09-06   19.48   80.50\n",
       "2021-09-08   18.79   78.82\n",
       "2021-09-09   18.85   78.54\n",
       "...            ...     ...\n",
       "2022-08-29    4.52   66.91\n",
       "2022-08-30    4.51   64.97\n",
       "2022-08-31    4.27   64.50\n",
       "2022-09-01    4.37   63.89\n",
       "2022-09-02    4.26   62.92\n",
       "\n",
       "[251 rows x 2 columns]>"
      ]
     },
     "execution_count": 36,
     "metadata": {},
     "output_type": "execute_result"
    }
   ],
   "source": [
    "prices.tail"
   ]
  },
  {
   "cell_type": "code",
   "execution_count": 37,
   "metadata": {},
   "outputs": [],
   "source": [
    "# Criando Carteira\n",
    "\n",
    "def calcula_carteira(df, w1):\n",
    "    pesos = [w1,(1-w1)]\n",
    "    df2 = df.dot(pesos).copy()\n",
    "    return df2.mean() * 252, df2.std() * np.sqrt(252)\n"
   ]
  },
  {
   "cell_type": "code",
   "execution_count": 38,
   "metadata": {},
   "outputs": [
    {
     "data": {
      "text/html": [
       "<div>\n",
       "<style scoped>\n",
       "    .dataframe tbody tr th:only-of-type {\n",
       "        vertical-align: middle;\n",
       "    }\n",
       "\n",
       "    .dataframe tbody tr th {\n",
       "        vertical-align: top;\n",
       "    }\n",
       "\n",
       "    .dataframe thead th {\n",
       "        text-align: right;\n",
       "    }\n",
       "</style>\n",
       "<table border=\"1\" class=\"dataframe\">\n",
       "  <thead>\n",
       "    <tr style=\"text-align: right;\">\n",
       "      <th></th>\n",
       "      <th>retorno</th>\n",
       "      <th>volatilidade</th>\n",
       "    </tr>\n",
       "  </thead>\n",
       "  <tbody>\n",
       "    <tr>\n",
       "      <th>0.00</th>\n",
       "      <td>-0.191414</td>\n",
       "      <td>0.380755</td>\n",
       "    </tr>\n",
       "    <tr>\n",
       "      <th>0.01</th>\n",
       "      <td>-0.200702</td>\n",
       "      <td>0.377858</td>\n",
       "    </tr>\n",
       "    <tr>\n",
       "      <th>0.02</th>\n",
       "      <td>-0.209990</td>\n",
       "      <td>0.375138</td>\n",
       "    </tr>\n",
       "    <tr>\n",
       "      <th>0.03</th>\n",
       "      <td>-0.219277</td>\n",
       "      <td>0.372597</td>\n",
       "    </tr>\n",
       "    <tr>\n",
       "      <th>0.04</th>\n",
       "      <td>-0.228565</td>\n",
       "      <td>0.370240</td>\n",
       "    </tr>\n",
       "    <tr>\n",
       "      <th>...</th>\n",
       "      <td>...</td>\n",
       "      <td>...</td>\n",
       "    </tr>\n",
       "    <tr>\n",
       "      <th>0.96</th>\n",
       "      <td>-1.083045</td>\n",
       "      <td>0.783159</td>\n",
       "    </tr>\n",
       "    <tr>\n",
       "      <th>0.97</th>\n",
       "      <td>-1.092333</td>\n",
       "      <td>0.790850</td>\n",
       "    </tr>\n",
       "    <tr>\n",
       "      <th>0.98</th>\n",
       "      <td>-1.101621</td>\n",
       "      <td>0.798559</td>\n",
       "    </tr>\n",
       "    <tr>\n",
       "      <th>0.99</th>\n",
       "      <td>-1.110909</td>\n",
       "      <td>0.806287</td>\n",
       "    </tr>\n",
       "    <tr>\n",
       "      <th>1.00</th>\n",
       "      <td>-1.120197</td>\n",
       "      <td>0.814033</td>\n",
       "    </tr>\n",
       "  </tbody>\n",
       "</table>\n",
       "<p>101 rows × 2 columns</p>\n",
       "</div>"
      ],
      "text/plain": [
       "       retorno  volatilidade\n",
       "0.00 -0.191414      0.380755\n",
       "0.01 -0.200702      0.377858\n",
       "0.02 -0.209990      0.375138\n",
       "0.03 -0.219277      0.372597\n",
       "0.04 -0.228565      0.370240\n",
       "...        ...           ...\n",
       "0.96 -1.083045      0.783159\n",
       "0.97 -1.092333      0.790850\n",
       "0.98 -1.101621      0.798559\n",
       "0.99 -1.110909      0.806287\n",
       "1.00 -1.120197      0.814033\n",
       "\n",
       "[101 rows x 2 columns]"
      ]
     },
     "execution_count": 38,
     "metadata": {},
     "output_type": "execute_result"
    }
   ],
   "source": [
    "carteira = pd.DataFrame()\n",
    "for i in np.linspace(0,1,101):\n",
    "    media, std = calcula_carteira(retorno, i)\n",
    "    carteira.at[i, 'retorno'] = media\n",
    "    carteira.at[i, 'volatilidade'] = std\n",
    "\n",
    "carteira"
   ]
  },
  {
   "cell_type": "code",
   "execution_count": 39,
   "metadata": {},
   "outputs": [
    {
     "data": {
      "text/plain": [
       "0.15"
      ]
     },
     "execution_count": 39,
     "metadata": {},
     "output_type": "execute_result"
    }
   ],
   "source": [
    "# Vol mínima\n",
    "min_vol_idx = carteira['volatilidade'].idxmin()\n",
    "min_vol_idx\n"
   ]
  },
  {
   "cell_type": "code",
   "execution_count": 40,
   "metadata": {},
   "outputs": [],
   "source": [
    "# Calcula a fronteira eficiente\n",
    "if (carteira['retorno'].iloc[0] > carteira['retorno'].iloc[-1]):\n",
    "  fe = carteira.loc[:min_vol_idx, :]\n",
    "else:\n",
    "  fe = carteira.loc[min_vol_idx:, :]\n"
   ]
  },
  {
   "cell_type": "markdown",
   "metadata": {},
   "source": [
    "### Gráfico"
   ]
  },
  {
   "cell_type": "code",
   "execution_count": 49,
   "metadata": {},
   "outputs": [],
   "source": [
    "def gerar_grafico(w1, mostrar_curvas):\n",
    "    fig = go.Figure()\n",
    "\n",
    "    # Desenha um ponto com o retorno e a volatilidade da carteira\n",
    "    fig.add_scatter(y=[carteira.iloc[w1]['retorno']], \n",
    "                    x=[carteira.iloc[w1]['volatilidade']], \n",
    "                    text=['CARTEIRA'],\n",
    "                    mode='markers+text', name='CARTEIRA')\n",
    "    \n",
    "    # Desenha os pontos das ações individuais\n",
    "    fig.add_scatter(y=carteira.iloc[[-1,0]]['retorno'], \n",
    "                    x=carteira.iloc[[-1,0]]['volatilidade'], \n",
    "                    text=ativos,\n",
    "                    mode='markers+text', name='Ações')\n",
    "  \n",
    "    # Desenha a curva\n",
    "    fig.add_scatter(y=carteira['retorno'], \n",
    "                    x=carteira['volatilidade'],                  \n",
    "                    mode='lines', name='Curva', \n",
    "                    visible=mostrar_curvas)\n",
    "\n",
    "    # Plota carteira de volatilidade mínima   \n",
    "    fig.add_scatter(y=[carteira.loc[min_vol_idx]['retorno']], \n",
    "                    x=[carteira.loc[min_vol_idx]['volatilidade']],                  \n",
    "                    mode='markers', \n",
    "                    name='Carteira de Mínima Variância',\n",
    "                    visible=mostrar_curvas)\n",
    "      \n",
    "    # Desenha a fronteira eficiente\n",
    "    fig.add_scatter(y=fe['retorno'], \n",
    "                    x=fe['volatilidade'],                  \n",
    "                    mode='lines', name='Fronteira Eficiente', \n",
    "                    line={'color':'red'},\n",
    "                    visible=mostrar_curvas)\n",
    "                \n",
    "    fig.update_traces(textfont_size=12, \n",
    "                    textposition='top center', \n",
    "                    textfont_color='white',\n",
    "                    hovertemplate='<b>retorno: </b> %{y:.1%}' +\n",
    "                                  '<br><b>volatilidade:</b> %{x:.1%}')\n",
    "    fig.layout.autosize = False\n",
    "    fig.layout.xaxis.title='Volatilidade'\n",
    "    fig.layout.yaxis.title='Retorno Esperado'\n",
    "    fig.layout.xaxis.range = [carteira['volatilidade'].min()-0.05, carteira['volatilidade'].max()+0.05]\n",
    "    fig.layout.yaxis.range = [carteira['retorno'].min()-0.05, carteira['retorno'].max()+0.05]\n",
    "    fig.layout.xaxis.tickformat = '.0%'\n",
    "    fig.layout.yaxis.tickformat = '.0%'\n",
    "    fig.layout.title = f\"<b>{ativos[0]}:</b> {w1}%  <b>{ativos[1]}:</b> {100-w1}%\"\n",
    "    fig.layout.template = 'plotly_dark'\n",
    "                   \n",
    "    fig.show(config=dict(displayModeBar=True))\n"
   ]
  },
  {
   "cell_type": "code",
   "execution_count": 54,
   "metadata": {},
   "outputs": [
    {
     "data": {
      "application/vnd.jupyter.widget-view+json": {
       "model_id": "41a78a15223d40f0b26bc200a87c94d0",
       "version_major": 2,
       "version_minor": 0
      },
      "text/plain": [
       "interactive(children=(IntSlider(value=50, description='w1'), Checkbox(value=False, description='mostrar_curvas…"
      ]
     },
     "metadata": {},
     "output_type": "display_data"
    },
    {
     "data": {
      "text/plain": [
       "<function __main__.gerar_grafico(w1, mostrar_curvas)>"
      ]
     },
     "execution_count": 54,
     "metadata": {},
     "output_type": "execute_result"
    }
   ],
   "source": [
    "interact(gerar_grafico, w1=(0,100, 1), mostrar_curvas=False)"
   ]
  }
 ],
 "metadata": {
  "kernelspec": {
   "display_name": "Python 3.10.5 64-bit",
   "language": "python",
   "name": "python3"
  },
  "language_info": {
   "codemirror_mode": {
    "name": "ipython",
    "version": 3
   },
   "file_extension": ".py",
   "mimetype": "text/x-python",
   "name": "python",
   "nbconvert_exporter": "python",
   "pygments_lexer": "ipython3",
   "version": "3.10.5"
  },
  "orig_nbformat": 4,
  "vscode": {
   "interpreter": {
    "hash": "df95319d8ce4e1d89f5365ae10992bc1f65da593082b1d264e8f529830ec2f02"
   }
  }
 },
 "nbformat": 4,
 "nbformat_minor": 2
}
